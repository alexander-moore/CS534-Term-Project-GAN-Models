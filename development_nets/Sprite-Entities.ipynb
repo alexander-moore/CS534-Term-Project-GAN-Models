{
 "cells": [
  {
   "cell_type": "code",
   "execution_count": 1,
   "metadata": {
    "colab": {},
    "colab_type": "code",
    "id": "pvj_92ZBWYZm"
   },
   "outputs": [],
   "source": [
    "# Makes plots / images embedded in the file\n",
    "%matplotlib inline"
   ]
  },
  {
   "cell_type": "code",
   "execution_count": 4,
   "metadata": {
    "colab": {},
    "colab_type": "code",
    "id": "-oqNQ57pn6Zz"
   },
   "outputs": [],
   "source": [
    "from zipfile import ZipFile\n",
    "from urllib.request import urlopen\n",
    "import numpy as np\n",
    "\n",
    "#URL = 'https://uwmadison-cs534-term-project-f2018-cdh.github.io/assets/datasets/entities.zip'\n",
    "\n",
    "#url = urlopen(URL)\n",
    "#output = open('environment.zip','wb')\n",
    "#output.write(url.read())\n",
    "#output.close()\n",
    "\n",
    "zip_ref = ZipFile('entities.zip', 'r')\n",
    "zip_ref.extractall('./dataset')\n",
    "zip_ref.close()"
   ]
  },
  {
   "cell_type": "code",
   "execution_count": 5,
   "metadata": {
    "colab": {
     "base_uri": "https://localhost:8080/",
     "height": 34
    },
    "colab_type": "code",
    "executionInfo": {
     "elapsed": 1201,
     "status": "ok",
     "timestamp": 1540768721349,
     "user": {
      "displayName": "Curt Henrichs",
      "photoUrl": "https://lh5.googleusercontent.com/-zSRdNv8Zf3o/AAAAAAAAAAI/AAAAAAAAAaQ/iblNsDdrTqQ/s64/photo.jpg",
      "userId": "06691758760752411826"
     },
     "user_tz": 300
    },
    "id": "HS3Oy4yPPgas",
    "outputId": "273f7a49-b2d0-47a3-ded1-2695711d4257"
   },
   "outputs": [
    {
     "ename": "ImportError",
     "evalue": "cannot import name 'get_config' from 'tensorflow.python.eager.context' (C:\\Users\\Alex\\anaconda3\\lib\\site-packages\\tensorflow\\python\\eager\\context.py)",
     "output_type": "error",
     "traceback": [
      "\u001b[1;31m---------------------------------------------------------------------------\u001b[0m",
      "\u001b[1;31mImportError\u001b[0m                               Traceback (most recent call last)",
      "\u001b[1;32m~\\AppData\\Local\\Temp/ipykernel_19684/2830882006.py\u001b[0m in \u001b[0;36m<module>\u001b[1;34m\u001b[0m\n\u001b[0;32m      1\u001b[0m \u001b[1;31m# Import data and keras layers\u001b[0m\u001b[1;33m\u001b[0m\u001b[1;33m\u001b[0m\u001b[1;33m\u001b[0m\u001b[0m\n\u001b[0;32m      2\u001b[0m \u001b[1;33m\u001b[0m\u001b[0m\n\u001b[1;32m----> 3\u001b[1;33m \u001b[1;32mfrom\u001b[0m \u001b[0mkeras\u001b[0m \u001b[1;32mimport\u001b[0m \u001b[0mbackend\u001b[0m \u001b[1;32mas\u001b[0m \u001b[0mk\u001b[0m\u001b[1;33m\u001b[0m\u001b[1;33m\u001b[0m\u001b[0m\n\u001b[0m\u001b[0;32m      4\u001b[0m \u001b[1;32mfrom\u001b[0m \u001b[0mkeras\u001b[0m\u001b[1;33m.\u001b[0m\u001b[0mmodels\u001b[0m \u001b[1;32mimport\u001b[0m \u001b[0mModel\u001b[0m\u001b[1;33m,\u001b[0m \u001b[0mSequential\u001b[0m\u001b[1;33m\u001b[0m\u001b[1;33m\u001b[0m\u001b[0m\n\u001b[0;32m      5\u001b[0m \u001b[1;32mfrom\u001b[0m \u001b[0mkeras\u001b[0m\u001b[1;33m.\u001b[0m\u001b[0mlayers\u001b[0m \u001b[1;32mimport\u001b[0m \u001b[0mInput\u001b[0m\u001b[1;33m,\u001b[0m \u001b[0mConv2D\u001b[0m\u001b[1;33m,\u001b[0m \u001b[0mUpSampling2D\u001b[0m\u001b[1;33m,\u001b[0m \u001b[0mDense\u001b[0m\u001b[1;33m,\u001b[0m \u001b[0mReshape\u001b[0m\u001b[1;33m\u001b[0m\u001b[1;33m\u001b[0m\u001b[0m\n",
      "\u001b[1;32m~\\anaconda3\\lib\\site-packages\\keras\\__init__.py\u001b[0m in \u001b[0;36m<module>\u001b[1;34m\u001b[0m\n\u001b[0;32m     23\u001b[0m \u001b[1;33m\u001b[0m\u001b[0m\n\u001b[0;32m     24\u001b[0m \u001b[1;31m# See b/110718070#comment18 for more details about this import.\u001b[0m\u001b[1;33m\u001b[0m\u001b[1;33m\u001b[0m\u001b[1;33m\u001b[0m\u001b[0m\n\u001b[1;32m---> 25\u001b[1;33m \u001b[1;32mfrom\u001b[0m \u001b[0mkeras\u001b[0m \u001b[1;32mimport\u001b[0m \u001b[0mmodels\u001b[0m\u001b[1;33m\u001b[0m\u001b[1;33m\u001b[0m\u001b[0m\n\u001b[0m\u001b[0;32m     26\u001b[0m \u001b[1;33m\u001b[0m\u001b[0m\n\u001b[0;32m     27\u001b[0m \u001b[1;32mfrom\u001b[0m \u001b[0mkeras\u001b[0m\u001b[1;33m.\u001b[0m\u001b[0mengine\u001b[0m\u001b[1;33m.\u001b[0m\u001b[0minput_layer\u001b[0m \u001b[1;32mimport\u001b[0m \u001b[0mInput\u001b[0m\u001b[1;33m\u001b[0m\u001b[1;33m\u001b[0m\u001b[0m\n",
      "\u001b[1;32m~\\anaconda3\\lib\\site-packages\\keras\\models.py\u001b[0m in \u001b[0;36m<module>\u001b[1;34m\u001b[0m\n\u001b[0;32m     17\u001b[0m \u001b[1;33m\u001b[0m\u001b[0m\n\u001b[0;32m     18\u001b[0m \u001b[1;32mimport\u001b[0m \u001b[0mtensorflow\u001b[0m\u001b[1;33m.\u001b[0m\u001b[0mcompat\u001b[0m\u001b[1;33m.\u001b[0m\u001b[0mv2\u001b[0m \u001b[1;32mas\u001b[0m \u001b[0mtf\u001b[0m\u001b[1;33m\u001b[0m\u001b[1;33m\u001b[0m\u001b[0m\n\u001b[1;32m---> 19\u001b[1;33m \u001b[1;32mfrom\u001b[0m \u001b[0mkeras\u001b[0m \u001b[1;32mimport\u001b[0m \u001b[0mbackend\u001b[0m\u001b[1;33m\u001b[0m\u001b[1;33m\u001b[0m\u001b[0m\n\u001b[0m\u001b[0;32m     20\u001b[0m \u001b[1;32mfrom\u001b[0m \u001b[0mkeras\u001b[0m \u001b[1;32mimport\u001b[0m \u001b[0mmetrics\u001b[0m \u001b[1;32mas\u001b[0m \u001b[0mmetrics_module\u001b[0m\u001b[1;33m\u001b[0m\u001b[1;33m\u001b[0m\u001b[0m\n\u001b[0;32m     21\u001b[0m \u001b[1;32mfrom\u001b[0m \u001b[0mkeras\u001b[0m \u001b[1;32mimport\u001b[0m \u001b[0moptimizer_v1\u001b[0m\u001b[1;33m\u001b[0m\u001b[1;33m\u001b[0m\u001b[0m\n",
      "\u001b[1;32m~\\anaconda3\\lib\\site-packages\\keras\\backend.py\u001b[0m in \u001b[0;36m<module>\u001b[1;34m\u001b[0m\n\u001b[0;32m     35\u001b[0m \u001b[1;32mfrom\u001b[0m \u001b[0mtensorflow\u001b[0m\u001b[1;33m.\u001b[0m\u001b[0mpython\u001b[0m\u001b[1;33m.\u001b[0m\u001b[0mdistribute\u001b[0m \u001b[1;32mimport\u001b[0m \u001b[0mdistribute_coordinator\u001b[0m \u001b[1;32mas\u001b[0m \u001b[0mdc\u001b[0m\u001b[1;33m\u001b[0m\u001b[1;33m\u001b[0m\u001b[0m\n\u001b[0;32m     36\u001b[0m \u001b[1;32mfrom\u001b[0m \u001b[0mtensorflow\u001b[0m\u001b[1;33m.\u001b[0m\u001b[0mpython\u001b[0m\u001b[1;33m.\u001b[0m\u001b[0mdistribute\u001b[0m \u001b[1;32mimport\u001b[0m \u001b[0mdistribute_coordinator_context\u001b[0m \u001b[1;32mas\u001b[0m \u001b[0mdc_context\u001b[0m\u001b[1;33m\u001b[0m\u001b[1;33m\u001b[0m\u001b[0m\n\u001b[1;32m---> 37\u001b[1;33m \u001b[1;32mfrom\u001b[0m \u001b[0mtensorflow\u001b[0m\u001b[1;33m.\u001b[0m\u001b[0mpython\u001b[0m\u001b[1;33m.\u001b[0m\u001b[0meager\u001b[0m\u001b[1;33m.\u001b[0m\u001b[0mcontext\u001b[0m \u001b[1;32mimport\u001b[0m \u001b[0mget_config\u001b[0m\u001b[1;33m\u001b[0m\u001b[1;33m\u001b[0m\u001b[0m\n\u001b[0m\u001b[0;32m     38\u001b[0m \u001b[1;32mfrom\u001b[0m \u001b[0mtensorflow\u001b[0m\u001b[1;33m.\u001b[0m\u001b[0mpython\u001b[0m\u001b[1;33m.\u001b[0m\u001b[0mframework\u001b[0m \u001b[1;32mimport\u001b[0m \u001b[0mconfig\u001b[0m\u001b[1;33m\u001b[0m\u001b[1;33m\u001b[0m\u001b[0m\n\u001b[0;32m     39\u001b[0m \u001b[1;32mfrom\u001b[0m \u001b[0mkeras\u001b[0m \u001b[1;32mimport\u001b[0m \u001b[0mbackend_config\u001b[0m\u001b[1;33m\u001b[0m\u001b[1;33m\u001b[0m\u001b[0m\n",
      "\u001b[1;31mImportError\u001b[0m: cannot import name 'get_config' from 'tensorflow.python.eager.context' (C:\\Users\\Alex\\anaconda3\\lib\\site-packages\\tensorflow\\python\\eager\\context.py)"
     ]
    }
   ],
   "source": [
    "# Import data and keras layers\n",
    "\n",
    "from keras import backend as k\n",
    "from keras.models import Model, Sequential\n",
    "from keras.layers import Input, Conv2D, UpSampling2D, Dense, Reshape\n",
    "from keras.layers import Flatten, Dropout, BatchNormalization, Activation\n",
    "from keras.layers.advanced_activations import LeakyReLU\n",
    "from keras.optimizers import Adam\n",
    "from tqdm import tqdm\n",
    "import matplotlib.pyplot as plt"
   ]
  },
  {
   "cell_type": "code",
   "execution_count": 4,
   "metadata": {
    "colab": {
     "base_uri": "https://localhost:8080/",
     "height": 51
    },
    "colab_type": "code",
    "executionInfo": {
     "elapsed": 825,
     "status": "ok",
     "timestamp": 1540768723722,
     "user": {
      "displayName": "Curt Henrichs",
      "photoUrl": "https://lh5.googleusercontent.com/-zSRdNv8Zf3o/AAAAAAAAAAI/AAAAAAAAAaQ/iblNsDdrTqQ/s64/photo.jpg",
      "userId": "06691758760752411826"
     },
     "user_tz": 300
    },
    "id": "J5N4lsjZCwLz",
    "outputId": "d7b1d42c-7b24-481f-cf3d-787f293332f2"
   },
   "outputs": [
    {
     "name": "stdout",
     "output_type": "stream",
     "text": [
      "entities_label.npy\n",
      "entities_image.npy\n"
     ]
    }
   ],
   "source": [
    "import os\n",
    "\n",
    "files = os.listdir('./dataset/entities')\n",
    "for name in files:\n",
    "    print(name)"
   ]
  },
  {
   "cell_type": "code",
   "execution_count": 0,
   "metadata": {
    "colab": {},
    "colab_type": "code",
    "id": "KPQzxLn_WVXU"
   },
   "outputs": [],
   "source": [
    "x1_train = np.load('./dataset/entities/entities_image.npy')\n",
    "y1_train = np.load('./dataset/entities/entities_label.npy')\n",
    "\n",
    "x1_test = np.array([])\n",
    "y1_test = np.array([])\n",
    "\n",
    "#Optimizer\n",
    "adam = Adam(lr=2e-4, beta_1=0.5)"
   ]
  },
  {
   "cell_type": "code",
   "execution_count": 14,
   "metadata": {
    "colab": {
     "base_uri": "https://localhost:8080/",
     "height": 595
    },
    "colab_type": "code",
    "executionInfo": {
     "elapsed": 1012,
     "status": "ok",
     "timestamp": 1540773816627,
     "user": {
      "displayName": "Curt Henrichs",
      "photoUrl": "https://lh5.googleusercontent.com/-zSRdNv8Zf3o/AAAAAAAAAAI/AAAAAAAAAaQ/iblNsDdrTqQ/s64/photo.jpg",
      "userId": "06691758760752411826"
     },
     "user_tz": 300
    },
    "id": "Hd_pBeu5Pga_",
    "outputId": "6c9bb85d-e552-4679-844a-8b3f3eaff1d8"
   },
   "outputs": [
    {
     "name": "stdout",
     "output_type": "stream",
     "text": [
      "_________________________________________________________________\n",
      "Layer (type)                 Output Shape              Param #   \n",
      "=================================================================\n",
      "dense_4 (Dense)              (None, 8192)              827392    \n",
      "_________________________________________________________________\n",
      "activation_4 (Activation)    (None, 8192)              0         \n",
      "_________________________________________________________________\n",
      "dense_5 (Dense)              (None, 8192)              67117056  \n",
      "_________________________________________________________________\n",
      "activation_5 (Activation)    (None, 8192)              0         \n",
      "_________________________________________________________________\n",
      "batch_normalization_3 (Batch (None, 8192)              32768     \n",
      "_________________________________________________________________\n",
      "reshape_2 (Reshape)          (None, 8, 8, 128)         0         \n",
      "_________________________________________________________________\n",
      "up_sampling2d_3 (UpSampling2 (None, 16, 16, 128)       0         \n",
      "_________________________________________________________________\n",
      "conv2d_7 (Conv2D)            (None, 16, 16, 64)        204864    \n",
      "_________________________________________________________________\n",
      "activation_6 (Activation)    (None, 16, 16, 64)        0         \n",
      "_________________________________________________________________\n",
      "batch_normalization_4 (Batch (None, 16, 16, 64)        256       \n",
      "_________________________________________________________________\n",
      "up_sampling2d_4 (UpSampling2 (None, 32, 32, 64)        0         \n",
      "_________________________________________________________________\n",
      "conv2d_8 (Conv2D)            (None, 32, 32, 4)         6404      \n",
      "_________________________________________________________________\n",
      "activation_7 (Activation)    (None, 32, 32, 4)         0         \n",
      "=================================================================\n",
      "Total params: 68,188,740\n",
      "Trainable params: 68,172,228\n",
      "Non-trainable params: 16,512\n",
      "_________________________________________________________________\n",
      "None\n"
     ]
    }
   ],
   "source": [
    "# Creating the generator\n",
    "generator = Sequential()\n",
    "generator.add(Dense(128*8*8, input_dim = 100))\n",
    "generator.add(Activation('relu'))\n",
    "generator.add(Dense(128*8*8))\n",
    "generator.add(Activation('relu'))\n",
    "generator.add(BatchNormalization())\n",
    "generator.add(Reshape((8, 8, 128)))\n",
    "generator.add(UpSampling2D((2,2)))\n",
    "generator.add(Conv2D(64, kernel_size = (5, 5), padding = 'same'))\n",
    "generator.add(Activation('relu'))\n",
    "generator.add(BatchNormalization())\n",
    "generator.add(UpSampling2D((2,2)))\n",
    "generator.add(Conv2D(4, kernel_size = (5, 5), padding = 'same'))\n",
    "generator.add(Activation('tanh'))\n",
    "\n",
    "print(generator.summary())\n",
    "generator.compile(loss = 'binary_crossentropy', optimizer = adam)  "
   ]
  },
  {
   "cell_type": "code",
   "execution_count": 15,
   "metadata": {
    "colab": {
     "base_uri": "https://localhost:8080/",
     "height": 391
    },
    "colab_type": "code",
    "executionInfo": {
     "elapsed": 816,
     "status": "ok",
     "timestamp": 1540773820406,
     "user": {
      "displayName": "Curt Henrichs",
      "photoUrl": "https://lh5.googleusercontent.com/-zSRdNv8Zf3o/AAAAAAAAAAI/AAAAAAAAAaQ/iblNsDdrTqQ/s64/photo.jpg",
      "userId": "06691758760752411826"
     },
     "user_tz": 300
    },
    "id": "VzDKYRjNPgbH",
    "outputId": "5325039d-2aaf-4261-bec6-45edab5d552e"
   },
   "outputs": [
    {
     "name": "stdout",
     "output_type": "stream",
     "text": [
      "_________________________________________________________________\n",
      "Layer (type)                 Output Shape              Param #   \n",
      "=================================================================\n",
      "conv2d_9 (Conv2D)            (None, 16, 16, 64)        6464      \n",
      "_________________________________________________________________\n",
      "leaky_re_lu_5 (LeakyReLU)    (None, 16, 16, 64)        0         \n",
      "_________________________________________________________________\n",
      "conv2d_10 (Conv2D)           (None, 8, 8, 128)         204928    \n",
      "_________________________________________________________________\n",
      "leaky_re_lu_6 (LeakyReLU)    (None, 8, 8, 128)         0         \n",
      "_________________________________________________________________\n",
      "flatten_3 (Flatten)          (None, 8192)              0         \n",
      "_________________________________________________________________\n",
      "dropout_3 (Dropout)          (None, 8192)              0         \n",
      "_________________________________________________________________\n",
      "dense_6 (Dense)              (None, 1)                 8193      \n",
      "=================================================================\n",
      "Total params: 219,585\n",
      "Trainable params: 219,585\n",
      "Non-trainable params: 0\n",
      "_________________________________________________________________\n",
      "None\n"
     ]
    }
   ],
   "source": [
    "# Creating the discriminator\n",
    "discriminator = Sequential()\n",
    "discriminator.add(Conv2D(64, kernel_size = (5, 5), strides = (2, 2), padding = 'same', input_shape = (32, 32, 4)))\n",
    "discriminator.add(LeakyReLU(0.2))\n",
    "discriminator.add(Conv2D(128, kernel_size = (5, 5), strides = (2, 2), padding = 'same'))\n",
    "discriminator.add(LeakyReLU(0.2))\n",
    "discriminator.add(Flatten())\n",
    "discriminator.add(Dropout(0.5))\n",
    "discriminator.add(Dense(1, activation = 'sigmoid'))\n",
    "print(discriminator.summary())\n",
    "discriminator.compile(loss = 'binary_crossentropy', optimizer = adam) "
   ]
  },
  {
   "cell_type": "code",
   "execution_count": 0,
   "metadata": {
    "colab": {},
    "colab_type": "code",
    "id": "nqgkD7H1PgbO"
   },
   "outputs": [],
   "source": [
    "# Create the GAN\n",
    "discriminator.trainable = False\n",
    "gan = Sequential()\n",
    "gan.add(generator)\n",
    "gan.add(discriminator)\n",
    "gan.compile(loss = 'binary_crossentropy', optimizer = adam)"
   ]
  },
  {
   "cell_type": "code",
   "execution_count": 0,
   "metadata": {
    "colab": {},
    "colab_type": "code",
    "id": "LH0ETe4zhzNo"
   },
   "outputs": [],
   "source": [
    "# Visualize generated data\n",
    "def plotGeneratedImages():\n",
    "  generated_images = generator.predict(noise)\n",
    "  fig = plt.figure(figsize=(9, 9))        \n",
    "  for i in range(9):\n",
    "    plt.subplot(3, 3, i+1)\n",
    "    img = np.clip(generated_images[i, :],0,1)\n",
    "    img = img.reshape((32, 32, 4))\n",
    "    plt.tight_layout()\n",
    "    plt.imshow(img)\n",
    "    plt.axis('off')"
   ]
  },
  {
   "cell_type": "code",
   "execution_count": 0,
   "metadata": {
    "colab": {
     "base_uri": "https://localhost:8080/",
     "height": 2244
    },
    "colab_type": "code",
    "id": "P84lxNCePgbg",
    "outputId": "810f8c9f-9970-43fc-ffbc-5ca413e36806",
    "scrolled": false
   },
   "outputs": [
    {
     "name": "stderr",
     "output_type": "stream",
     "text": [
      "100%|██████████| 86/86 [00:12<00:00,  7.14it/s]\n",
      "100%|██████████| 86/86 [00:11<00:00,  7.13it/s]\n",
      "100%|██████████| 86/86 [00:11<00:00,  7.14it/s]\n",
      "100%|██████████| 86/86 [00:11<00:00,  7.18it/s]\n",
      "100%|██████████| 86/86 [00:11<00:00,  7.15it/s]\n",
      "100%|██████████| 86/86 [00:12<00:00,  7.19it/s]\n",
      "100%|██████████| 86/86 [00:11<00:00,  7.20it/s]\n",
      "100%|██████████| 86/86 [00:11<00:00,  7.10it/s]\n",
      "100%|██████████| 86/86 [00:12<00:00,  7.11it/s]\n",
      "100%|██████████| 86/86 [00:11<00:00,  7.13it/s]\n",
      "100%|██████████| 86/86 [00:11<00:00,  7.16it/s]\n",
      "100%|██████████| 86/86 [00:11<00:00,  7.16it/s]\n",
      "100%|██████████| 86/86 [00:11<00:00,  7.15it/s]\n",
      "100%|██████████| 86/86 [00:11<00:00,  7.19it/s]\n",
      "100%|██████████| 86/86 [00:11<00:00,  7.17it/s]\n",
      "100%|██████████| 86/86 [00:11<00:00,  7.09it/s]\n",
      "100%|██████████| 86/86 [00:11<00:00,  7.18it/s]\n",
      "100%|██████████| 86/86 [00:11<00:00,  7.06it/s]\n",
      "100%|██████████| 86/86 [00:12<00:00,  7.11it/s]\n",
      "100%|██████████| 86/86 [00:12<00:00,  7.13it/s]\n",
      "100%|██████████| 86/86 [00:12<00:00,  7.18it/s]\n",
      "100%|██████████| 86/86 [00:11<00:00,  7.17it/s]\n",
      "100%|██████████| 86/86 [00:11<00:00,  7.09it/s]\n",
      "100%|██████████| 86/86 [00:11<00:00,  7.10it/s]\n",
      "100%|██████████| 86/86 [00:12<00:00,  7.17it/s]\n",
      "100%|██████████| 86/86 [00:12<00:00,  7.15it/s]\n",
      "100%|██████████| 86/86 [00:12<00:00,  6.66it/s]\n",
      "100%|██████████| 86/86 [00:21<00:00,  3.97it/s]\n",
      "100%|██████████| 86/86 [00:22<00:00,  3.85it/s]\n",
      "100%|██████████| 86/86 [00:22<00:00,  3.66it/s]\n",
      "100%|██████████| 86/86 [00:22<00:00,  3.74it/s]\n",
      "100%|██████████| 86/86 [00:22<00:00,  3.72it/s]\n",
      "100%|██████████| 86/86 [00:22<00:00,  3.81it/s]\n",
      "100%|██████████| 86/86 [00:22<00:00,  3.88it/s]\n",
      "100%|██████████| 86/86 [00:22<00:00,  3.65it/s]\n",
      "100%|██████████| 86/86 [00:22<00:00,  3.93it/s]\n",
      "100%|██████████| 86/86 [00:22<00:00,  3.90it/s]\n",
      "100%|██████████| 86/86 [00:22<00:00,  3.65it/s]\n",
      "100%|██████████| 86/86 [00:22<00:00,  3.69it/s]\n",
      "100%|██████████| 86/86 [00:22<00:00,  3.73it/s]\n",
      "100%|██████████| 86/86 [00:22<00:00,  3.87it/s]\n",
      "100%|██████████| 86/86 [00:22<00:00,  3.79it/s]\n",
      "100%|██████████| 86/86 [00:16<00:00,  7.18it/s]\n",
      "100%|██████████| 86/86 [00:11<00:00,  7.25it/s]\n",
      "100%|██████████| 86/86 [00:12<00:00,  7.13it/s]\n",
      "100%|██████████| 86/86 [00:12<00:00,  7.10it/s]\n",
      "100%|██████████| 86/86 [00:12<00:00,  7.14it/s]\n",
      "100%|██████████| 86/86 [00:11<00:00,  7.21it/s]\n",
      "100%|██████████| 86/86 [00:11<00:00,  7.21it/s]\n",
      "100%|██████████| 86/86 [00:11<00:00,  7.17it/s]\n",
      "100%|██████████| 86/86 [00:11<00:00,  7.20it/s]\n",
      "100%|██████████| 86/86 [00:12<00:00,  6.82it/s]\n",
      "100%|██████████| 86/86 [00:15<00:00,  5.12it/s]\n",
      "100%|██████████| 86/86 [00:16<00:00,  5.11it/s]\n",
      "100%|██████████| 86/86 [00:16<00:00,  5.19it/s]\n",
      "100%|██████████| 86/86 [00:16<00:00,  5.20it/s]\n",
      "100%|██████████| 86/86 [00:16<00:00,  5.05it/s]\n",
      "100%|██████████| 86/86 [00:16<00:00,  5.18it/s]\n",
      "100%|██████████| 86/86 [00:16<00:00,  5.16it/s]\n",
      "100%|██████████| 86/86 [00:16<00:00,  5.22it/s]\n",
      "100%|██████████| 86/86 [00:16<00:00,  4.97it/s]\n",
      "100%|██████████| 86/86 [00:16<00:00,  5.21it/s]\n",
      "100%|██████████| 86/86 [00:16<00:00,  5.23it/s]\n",
      "100%|██████████| 86/86 [00:16<00:00,  5.16it/s]\n",
      "100%|██████████| 86/86 [00:16<00:00,  5.11it/s]\n",
      "100%|██████████| 86/86 [00:16<00:00,  5.13it/s]\n",
      "100%|██████████| 86/86 [00:16<00:00,  5.10it/s]\n",
      "100%|██████████| 86/86 [00:16<00:00,  4.94it/s]\n",
      "100%|██████████| 86/86 [00:16<00:00,  5.22it/s]\n",
      "100%|██████████| 86/86 [00:16<00:00,  5.28it/s]\n",
      "100%|██████████| 86/86 [00:16<00:00,  5.22it/s]\n",
      "100%|██████████| 86/86 [00:16<00:00,  5.10it/s]\n",
      "100%|██████████| 86/86 [00:16<00:00,  5.21it/s]\n",
      "100%|██████████| 86/86 [00:16<00:00,  5.22it/s]\n",
      "100%|██████████| 86/86 [00:16<00:00,  5.19it/s]\n",
      "100%|██████████| 86/86 [00:16<00:00,  5.05it/s]\n",
      "100%|██████████| 86/86 [00:16<00:00,  5.12it/s]\n",
      "100%|██████████| 86/86 [00:16<00:00,  5.32it/s]\n",
      "100%|██████████| 86/86 [00:16<00:00,  5.21it/s]\n",
      "100%|██████████| 86/86 [00:16<00:00,  5.27it/s]\n",
      "100%|██████████| 86/86 [00:16<00:00,  5.09it/s]\n",
      "100%|██████████| 86/86 [00:16<00:00,  5.26it/s]\n",
      "100%|██████████| 86/86 [00:16<00:00,  5.27it/s]\n",
      "100%|██████████| 86/86 [00:16<00:00,  5.22it/s]\n",
      "100%|██████████| 86/86 [00:16<00:00,  5.18it/s]\n",
      "100%|██████████| 86/86 [00:16<00:00,  5.19it/s]\n",
      "100%|██████████| 86/86 [00:16<00:00,  5.17it/s]\n",
      "100%|██████████| 86/86 [00:16<00:00,  5.07it/s]\n",
      "100%|██████████| 86/86 [00:16<00:00,  5.09it/s]\n",
      "100%|██████████| 86/86 [00:16<00:00,  5.16it/s]\n",
      "100%|██████████| 86/86 [00:16<00:00,  5.14it/s]\n",
      "100%|██████████| 86/86 [00:16<00:00,  5.25it/s]\n",
      "100%|██████████| 86/86 [00:16<00:00,  5.17it/s]\n",
      "100%|██████████| 86/86 [00:16<00:00,  5.26it/s]\n",
      "100%|██████████| 86/86 [00:16<00:00,  5.15it/s]\n",
      "100%|██████████| 86/86 [00:16<00:00,  5.25it/s]\n",
      "100%|██████████| 86/86 [00:16<00:00,  5.11it/s]\n",
      "100%|██████████| 86/86 [00:16<00:00,  5.07it/s]\n",
      "100%|██████████| 86/86 [00:16<00:00,  5.19it/s]\n",
      "100%|██████████| 86/86 [00:16<00:00,  5.11it/s]\n",
      "100%|██████████| 86/86 [00:16<00:00,  5.28it/s]\n",
      "100%|██████████| 86/86 [00:16<00:00,  5.27it/s]\n",
      "100%|██████████| 86/86 [00:16<00:00,  5.22it/s]\n",
      "100%|██████████| 86/86 [00:16<00:00,  5.19it/s]\n",
      "100%|██████████| 86/86 [00:16<00:00,  5.07it/s]\n",
      "100%|██████████| 86/86 [00:16<00:00,  5.13it/s]\n",
      "100%|██████████| 86/86 [00:16<00:00,  5.31it/s]\n",
      "100%|██████████| 86/86 [00:16<00:00,  5.23it/s]\n",
      "100%|██████████| 86/86 [00:16<00:00,  5.17it/s]\n",
      "100%|██████████| 86/86 [00:16<00:00,  5.16it/s]\n",
      "100%|██████████| 86/86 [00:16<00:00,  5.18it/s]\n",
      "100%|██████████| 86/86 [00:16<00:00,  5.16it/s]\n",
      "100%|██████████| 86/86 [00:16<00:00,  5.13it/s]\n",
      "100%|██████████| 86/86 [00:16<00:00,  5.09it/s]\n",
      "100%|██████████| 86/86 [00:16<00:00,  5.19it/s]\n",
      "100%|██████████| 86/86 [00:16<00:00,  5.17it/s]\n",
      "100%|██████████| 86/86 [00:16<00:00,  5.23it/s]\n",
      "100%|██████████| 86/86 [00:16<00:00,  5.05it/s]\n",
      "100%|██████████| 86/86 [00:16<00:00,  5.11it/s]\n",
      "100%|██████████| 86/86 [00:16<00:00,  5.04it/s]\n",
      "100%|██████████| 86/86 [00:16<00:00,  5.17it/s]\n",
      "100%|██████████| 86/86 [00:16<00:00,  5.08it/s]\n",
      "100%|██████████| 86/86 [00:16<00:00,  5.21it/s]\n",
      "100%|██████████| 86/86 [00:16<00:00,  5.15it/s]\n",
      "100%|██████████| 86/86 [00:16<00:00,  5.31it/s]\n",
      "100%|██████████| 86/86 [00:16<00:00,  5.15it/s]\n",
      "100%|██████████| 86/86 [00:16<00:00,  5.21it/s]\n",
      "100%|██████████| 86/86 [00:16<00:00,  5.23it/s]\n",
      "100%|██████████| 86/86 [00:16<00:00,  5.19it/s]\n",
      "100%|██████████| 86/86 [00:16<00:00,  5.13it/s]\n",
      "100%|██████████| 86/86 [00:16<00:00,  5.15it/s]\n",
      "100%|██████████| 86/86 [00:16<00:00,  5.19it/s]\n",
      "100%|██████████| 86/86 [00:16<00:00,  5.14it/s]\n",
      "100%|██████████| 86/86 [00:16<00:00,  5.22it/s]\n",
      "100%|██████████| 86/86 [00:16<00:00,  5.19it/s]\n",
      "100%|██████████| 86/86 [00:16<00:00,  5.14it/s]\n",
      "100%|██████████| 86/86 [00:16<00:00,  5.09it/s]\n",
      " 14%|█▍        | 12/86 [00:02<00:14,  5.25it/s]"
     ]
    }
   ],
   "source": [
    "epochs = 1000\n",
    "batch_size = 32\n",
    "\n",
    "batch_count = int(x1_train.shape[0] / batch_size)\n",
    "\n",
    "for epoch in range(epochs):\n",
    "\n",
    "    for index in tqdm(range(batch_count)):\n",
    "        \n",
    "        # Real images\n",
    "        image_batch = x1_train[index * batch_size: (index + 1) * batch_size]\n",
    "        \n",
    "        # Get initial random input for generator\n",
    "        noise = np.random.uniform(-1, 1, size=[batch_size, 100])\n",
    "        # Generating images\n",
    "        generated_data = generator.predict_on_batch(noise)\n",
    "\n",
    "        X = np.concatenate([generated_data, image_batch])\n",
    "        y = np.zeros(2 * batch_size)\n",
    "        y[:batch_size] = 1\n",
    "\n",
    "        # Train discriminator\n",
    "        discriminator.trainable = True\n",
    "        discriminator.train_on_batch(x=X, y=y)\n",
    "\n",
    "        # Train generator \n",
    "        y = np.zeros(batch_size)\n",
    "        discriminator.trainable = False\n",
    "        gan.train_on_batch(x=noise, y=y)\n",
    "        \n",
    "        img = generated_images = generator.predict(noise)   \n",
    "        \n",
    "    \n",
    "plotGeneratedImages()\n"
   ]
  },
  {
   "cell_type": "code",
   "execution_count": 0,
   "metadata": {
    "colab": {},
    "colab_type": "code",
    "id": "VRcbqVN9xb8N"
   },
   "outputs": [],
   "source": [
    "noise = np.random.uniform(-1, 1, size=[batch_size, 100])\n",
    "plotGeneratedImages()"
   ]
  },
  {
   "cell_type": "code",
   "execution_count": 0,
   "metadata": {
    "colab": {},
    "colab_type": "code",
    "id": "iABPuCSm1jvy"
   },
   "outputs": [],
   "source": [
    "from google.colab import files\n",
    "import matplotlib.image as mpimg\n",
    "import uuid\n",
    "\n",
    "images = 20\n",
    "noise = np.random.uniform(-1, 1, size=[images, 100])\n",
    "generated_images = generator.predict(noise)    \n",
    "for i in range(images):\n",
    "  name = str(uuid.uuid4().hex) + '.png'\n",
    "  img = np.reshape(np.clip(generated_images[i, :],0,1),(32, 32, 4))\n",
    "  mpimg.imsave(name, img)             \n",
    "  files.download(name)\n"
   ]
  },
  {
   "cell_type": "code",
   "execution_count": 0,
   "metadata": {
    "colab": {},
    "colab_type": "code",
    "id": "TBSgMNzD2BuY"
   },
   "outputs": [],
   "source": []
  }
 ],
 "metadata": {
  "accelerator": "GPU",
  "colab": {
   "collapsed_sections": [],
   "name": "Sprite-Entities.ipynb",
   "provenance": [
    {
     "file_id": "https://github.com/UWMadison-CS534-Term-Project-F2018-CDH/GAN-MNIST/blob/master/keras-gan.ipynb",
     "timestamp": 1539843810200
    }
   ],
   "version": "0.3.2"
  },
  "kernelspec": {
   "display_name": "Python 3 (ipykernel)",
   "language": "python",
   "name": "python3"
  },
  "language_info": {
   "codemirror_mode": {
    "name": "ipython",
    "version": 3
   },
   "file_extension": ".py",
   "mimetype": "text/x-python",
   "name": "python",
   "nbconvert_exporter": "python",
   "pygments_lexer": "ipython3",
   "version": "3.8.8"
  }
 },
 "nbformat": 4,
 "nbformat_minor": 1
}
